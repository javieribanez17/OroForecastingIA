{
  "nbformat": 4,
  "nbformat_minor": 0,
  "metadata": {
    "colab": {
      "name": "OroForecasting_IA_JavierIbánhez.ipynb",
      "provenance": [],
      "authorship_tag": "ABX9TyN8hihapYfpzxbkQv6BCt9/",
      "include_colab_link": true
    },
    "kernelspec": {
      "name": "python3",
      "display_name": "Python 3"
    },
    "language_info": {
      "name": "python"
    }
  },
  "cells": [
    {
      "cell_type": "markdown",
      "metadata": {
        "id": "view-in-github",
        "colab_type": "text"
      },
      "source": [
        "<a href=\"https://colab.research.google.com/github/javieribanez17/OroForecastingIA/blob/main/OroForecasting_IA_JavierIb%C3%A1nhez.ipynb\" target=\"_parent\"><img src=\"https://colab.research.google.com/assets/colab-badge.svg\" alt=\"Open In Colab\"/></a>"
      ]
    },
    {
      "cell_type": "markdown",
      "metadata": {
        "id": "CV-wtI_Xw8N1"
      },
      "source": [
        "#Tarea semana 3 y 4"
      ]
    },
    {
      "cell_type": "markdown",
      "metadata": {
        "id": "ZjUQyHm7xCIz"
      },
      "source": [
        "##Oro forecasting"
      ]
    },
    {
      "cell_type": "code",
      "metadata": {
        "id": "NgziX60fxC7j"
      },
      "source": [
        "# LIBRERIAS\n",
        "import pandas as pd\n",
        "import numpy as np"
      ],
      "execution_count": 3,
      "outputs": []
    },
    {
      "cell_type": "code",
      "metadata": {
        "colab": {
          "base_uri": "https://localhost:8080/",
          "height": 355
        },
        "id": "XXy-NDbsxFcQ",
        "outputId": "fa2272b1-e2f3-4118-847b-a49f1bbcf765"
      },
      "source": [
        "# LECTURA DEL ARCHIVO .CVS Y SE COMPRUEBA VIENDO LOS 10 PRIMEROS VALORES DEL ARCHIVO\n",
        "dataframeGold = pd.read_csv('gold_price_data.csv')\n",
        "dataframeGold.head(10)"
      ],
      "execution_count": 4,
      "outputs": [
        {
          "output_type": "execute_result",
          "data": {
            "text/html": [
              "<div>\n",
              "<style scoped>\n",
              "    .dataframe tbody tr th:only-of-type {\n",
              "        vertical-align: middle;\n",
              "    }\n",
              "\n",
              "    .dataframe tbody tr th {\n",
              "        vertical-align: top;\n",
              "    }\n",
              "\n",
              "    .dataframe thead th {\n",
              "        text-align: right;\n",
              "    }\n",
              "</style>\n",
              "<table border=\"1\" class=\"dataframe\">\n",
              "  <thead>\n",
              "    <tr style=\"text-align: right;\">\n",
              "      <th></th>\n",
              "      <th>Date</th>\n",
              "      <th>Value</th>\n",
              "    </tr>\n",
              "  </thead>\n",
              "  <tbody>\n",
              "    <tr>\n",
              "      <th>0</th>\n",
              "      <td>1970-01-01</td>\n",
              "      <td>35.2</td>\n",
              "    </tr>\n",
              "    <tr>\n",
              "      <th>1</th>\n",
              "      <td>1970-04-01</td>\n",
              "      <td>35.1</td>\n",
              "    </tr>\n",
              "    <tr>\n",
              "      <th>2</th>\n",
              "      <td>1970-07-01</td>\n",
              "      <td>35.4</td>\n",
              "    </tr>\n",
              "    <tr>\n",
              "      <th>3</th>\n",
              "      <td>1970-10-01</td>\n",
              "      <td>36.2</td>\n",
              "    </tr>\n",
              "    <tr>\n",
              "      <th>4</th>\n",
              "      <td>1971-01-01</td>\n",
              "      <td>37.4</td>\n",
              "    </tr>\n",
              "    <tr>\n",
              "      <th>5</th>\n",
              "      <td>1971-04-01</td>\n",
              "      <td>38.9</td>\n",
              "    </tr>\n",
              "    <tr>\n",
              "      <th>6</th>\n",
              "      <td>1971-07-01</td>\n",
              "      <td>40.1</td>\n",
              "    </tr>\n",
              "    <tr>\n",
              "      <th>7</th>\n",
              "      <td>1971-10-01</td>\n",
              "      <td>42.0</td>\n",
              "    </tr>\n",
              "    <tr>\n",
              "      <th>8</th>\n",
              "      <td>1972-01-03</td>\n",
              "      <td>43.5</td>\n",
              "    </tr>\n",
              "    <tr>\n",
              "      <th>9</th>\n",
              "      <td>1972-04-03</td>\n",
              "      <td>48.3</td>\n",
              "    </tr>\n",
              "  </tbody>\n",
              "</table>\n",
              "</div>"
            ],
            "text/plain": [
              "         Date  Value\n",
              "0  1970-01-01   35.2\n",
              "1  1970-04-01   35.1\n",
              "2  1970-07-01   35.4\n",
              "3  1970-10-01   36.2\n",
              "4  1971-01-01   37.4\n",
              "5  1971-04-01   38.9\n",
              "6  1971-07-01   40.1\n",
              "7  1971-10-01   42.0\n",
              "8  1972-01-03   43.5\n",
              "9  1972-04-03   48.3"
            ]
          },
          "metadata": {
            "tags": []
          },
          "execution_count": 4
        }
      ]
    },
    {
      "cell_type": "code",
      "metadata": {
        "id": "_yzF2uyKxHwV"
      },
      "source": [
        "#DEFINICIÓN DE LAS ETIQUETAS Y CARACTERISTICAS. \n",
        "etiqueta = np.array(dataframeGold['Value'])[2:]\n",
        "car_m1 = np.array(dataframeGold['Value'])[1:-1]\n",
        "car_m2 = np.array(dataframeGold['Value'])[:-2]"
      ],
      "execution_count": 5,
      "outputs": []
    },
    {
      "cell_type": "code",
      "metadata": {
        "id": "wtxz63Q2xNpX"
      },
      "source": [
        "#AGRUPANDO LOS DATOS EN UN MISMO DATAFRAME Y EXPORTANDOLO A UN .CVS\n",
        "dataset = pd.DataFrame({'Carac menos 2':car_m2, 'Carac menos 1':car_m1, 'Etiqueta':etiqueta})\n",
        "dataset.to_csv('goldPriceArranged.csv')"
      ],
      "execution_count": 6,
      "outputs": []
    },
    {
      "cell_type": "code",
      "metadata": {
        "id": "466NO52axPhB"
      },
      "source": [
        "matrizDatos = dataset.to_numpy()"
      ],
      "execution_count": 7,
      "outputs": []
    },
    {
      "cell_type": "code",
      "metadata": {
        "id": "c5qXgUiRxSjB"
      },
      "source": [
        "# DEFINICIÓN DE LA FUNCIÓN DE COSTO\n",
        "def funcCosto(arr_1, arr_2):\n",
        "  J = (arr_1-arr_2)**2\n",
        "  return np.sum(J)/(2*len(J))"
      ],
      "execution_count": 8,
      "outputs": []
    },
    {
      "cell_type": "code",
      "metadata": {
        "colab": {
          "base_uri": "https://localhost:8080/"
        },
        "id": "C5QsQMGvxTfx",
        "outputId": "b6fce0fc-93cc-4b01-e907-360ec2099e3b"
      },
      "source": [
        "#BUSQUEDA DE LOS PARAMETROS POR FUERZA BRUTA\n",
        "J,T0,T1 = 0,0,0\n",
        "h_x0=T0*car_m1+T1*car_m2 #HIPOTESIS INICIAL\n",
        "Jmin = funcCosto(h_x0,etiqueta)\n",
        "for T0i in np.arange(-2,2,0.005):\n",
        "  for T1j in np.arange(-2,2,0.005):\n",
        "    h_x=T0i*car_m1+T1j*car_m2 #HIPOTESIS EN LA GRILLA\n",
        "    J=funcCosto(h_x,etiqueta)\n",
        "    if J < Jmin:\n",
        "      Jmin = J\n",
        "      T0 = T0i\n",
        "      T1 = T1j\n",
        "\n",
        "print(\"Los mejores valores para los parámetros según la región escogida son: Tetha0 = {}, y Tetha1 = {}\".format(T0,T1))"
      ],
      "execution_count": 21,
      "outputs": [
        {
          "output_type": "stream",
          "text": [
            "Los mejores valores para los parámetros según la región escogida son: Tetha0 = 0.9899999999999363, y Tetha1 = 0.009999999999957154\n"
          ],
          "name": "stdout"
        }
      ]
    }
  ]
}